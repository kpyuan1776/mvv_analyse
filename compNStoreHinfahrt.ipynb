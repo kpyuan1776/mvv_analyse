{
 "cells": [
  {
   "cell_type": "markdown",
   "metadata": {},
   "source": [
    "# script for doing a continuous query of googlemaps API\n",
    "it loads a list of longitude latitude coordinates and computes the time it takes to drive there by taking into account the time passed from previous segments"
   ]
  },
  {
   "cell_type": "code",
   "execution_count": null,
   "metadata": {
    "collapsed": true
   },
   "outputs": [],
   "source": [
    "import googlemaps\n",
    "import json\n",
    "import time\n",
    "from datetime import datetime, timedelta\n",
    "\n",
    "import csv\n",
    "import matplotlib\n",
    "import numpy as np\n",
    "import matplotlib.pyplot as plt\n",
    "%matplotlib inline  \n",
    "\n",
    "# here is my API key from my project\n",
    "gmaps = googlemaps.Client(key='YOUR_API_KEY')\n",
    "\n",
    "file_hin = 'routesegments.txt'\n",
    "file_back = 'routesegmentsback.txt'\n",
    "\n",
    "with open(file_hin, 'rb') as f:\n",
    "    verts_hin = list(csv.reader(f))\n",
    "    \n",
    "with open(file_back, 'rb') as f:\n",
    "    verts_back = list(csv.reader(f))\n",
    "    \n",
    "def compRouteDuration(verts,currtime):\n",
    "    #routeArr = np.zeros(len(verts)+1);\n",
    "    routeArr = [None]*(len(verts)+1)\n",
    "    routeArr[0] = \"{:%H:%M:%S}\".format(currtime)\n",
    "    routeArr[1] = 0\n",
    "    currtime_new = currtime\n",
    "    for ii in range(len(verts)-1):\n",
    "        routeArr[ii+2] = getSegmentDuration(verts[ii],verts[ii+1],currtime_new)\n",
    "        d = timedelta(seconds= routeArr[ii+2])\n",
    "        currtime_new = currtime_new + d\n",
    "    routeArr[1] = \"{:%H:%M:%S}\".format(currtime_new)\n",
    "    return routeArr\n",
    "\n",
    "def getSegmentDuration(vert1,vert2,ctime):\n",
    "    distance_result = gmaps.distance_matrix(vert1[0]+','+vert1[1],\n",
    "                                     vert2[0]+','+vert2[1],\n",
    "                                     mode=\"driving\",traffic_model='best_guess',\n",
    "                                     departure_time=ctime)\n",
    "    duration = distance_result[u'rows'][0][u'elements'][0][u'duration_in_traffic'][u'value']\n",
    "    return duration\n",
    "\n"
   ]
  },
  {
   "cell_type": "code",
   "execution_count": null,
   "metadata": {
    "collapsed": true
   },
   "outputs": [],
   "source": [
    "strbegin = \"{:%Y%B%d}\".format(datetime.now())\n",
    "daytimestart = '0531'\n",
    "daytimestop = '1201'\n",
    "cdaytime = \"{:%H%M}\".format(datetime.now())\n",
    "#strbegin = \"{:%H%M}\".format(datetime.now())\n",
    "f = open(strbegin+'test.txt', 'w')\n",
    "for jj in range(10):\n",
    "    #ctime = \"{:%H%M}\".format(datetime.now())\n",
    "    ctime = \"{:%Y%B%d}\".format(datetime.now())\n",
    "    cdaytime = \"{:%H%M}\".format(datetime.now())\n",
    "    if strbegin==ctime:\n",
    "        if int(daytimestart)<int(cdaytime) and int(cdaytime)<int(daytimestop):\n",
    "            rarr = compRouteDuration(verts_hin,datetime.now())\n",
    "            strssave = rarr[0]\n",
    "            for ids in range(len(rarr)-1):\n",
    "                strssave = strssave +', '+str(rarr[ids+1])\n",
    "            print >> f, strssave\n",
    "    else:\n",
    "        f.close()\n",
    "        strbegin=ctime\n",
    "        f = open(strbegin+'test.txt', 'w')\n",
    "        if int(daytimestart)<int(cdaytime) and int(cdaytime)<int(daytimestop):\n",
    "            rarr = compRouteDuration(verts_hin,datetime.now())\n",
    "            strssave = rarr[0]\n",
    "            for ids in range(len(rarr)-1):\n",
    "                strssave = strssave +', '+str(rarr[ids+1])\n",
    "            print >> f, strssave\n",
    "    time.sleep(240)\n",
    "f.close()"
   ]
  }
 ],
 "metadata": {
  "anaconda-cloud": {},
  "kernelspec": {
   "display_name": "Python [Root]",
   "language": "python",
   "name": "Python [Root]"
  },
  "language_info": {
   "codemirror_mode": {
    "name": "ipython",
    "version": 2
   },
   "file_extension": ".py",
   "mimetype": "text/x-python",
   "name": "python",
   "nbconvert_exporter": "python",
   "pygments_lexer": "ipython2",
   "version": "2.7.12"
  }
 },
 "nbformat": 4,
 "nbformat_minor": 0
}
